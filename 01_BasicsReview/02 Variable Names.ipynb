{
 "cells": [
  {
   "cell_type": "markdown",
   "metadata": {},
   "source": [
    "### Identifier names: rules and convenitions"
   ]
  },
  {
   "cell_type": "markdown",
   "metadata": {},
   "source": [
    "Variables **must**\n",
    "\n",
    "- start with an underscore (_) or a letter (a-z, A-Z)\n",
    "- followed by any numbers of underscores, letters, or digits\n",
    "- cannot be reserved words"
   ]
  },
  {
   "cell_type": "markdown",
   "metadata": {},
   "source": [
    "**Convetions**\n",
    "\n",
    "If a variable starts with one underscore `_my_var` it is a convention to indicate \"internal use\" or \"private\" objects. \n",
    "\n",
    "Objects named this way will not get imported by a statement such as:\n",
    "\n",
    "`from module import *`"
   ]
  },
  {
   "cell_type": "markdown",
   "metadata": {},
   "source": [
    "If starts with two underscores  `__my_var`... it indicates that it is used to \"mangle\" class attributes - useulf in inheritance chains.\n",
    "\n",
    "\n",
    "If it has two underscores at the beggining and end, `__my_var__` it is used for a system-defined names that have a special meaning to the interpreter.\n",
    "\n",
    "`__init__`"
   ]
  },
  {
   "cell_type": "markdown",
   "metadata": {},
   "source": [
    "### Other naming conventions\n",
    "\n",
    "**Packages** short, all-lowercase names. Preferably no underscores              `utilities`\n",
    " \n",
    "**Modules** short, all-lowercase names. Can have underscores.                   `db_utils` `dbutils`\n",
    " \n",
    "**Classes** CapWords (upper camel case) convention                              `BankAccount`\n",
    "\n",
    "**Functions** lowercase, words separated by underscores (snake_case)             `open_account`\n",
    " \n",
    "**Variables** lowercase, words separated by underscores (snake_case)             `account_id`\n",
    "\n",
    "**Constants** all-uppercase, words separated by underscores                      `MIN_APR`"
   ]
  },
  {
   "cell_type": "markdown",
   "metadata": {},
   "source": [
    "The actual goal is to make your code readable!"
   ]
  }
 ],
 "metadata": {
  "kernelspec": {
   "display_name": "Python 3",
   "language": "python",
   "name": "python3"
  },
  "language_info": {
   "codemirror_mode": {
    "name": "ipython",
    "version": 3
   },
   "file_extension": ".py",
   "mimetype": "text/x-python",
   "name": "python",
   "nbconvert_exporter": "python",
   "pygments_lexer": "ipython3",
   "version": "3.8.3"
  }
 },
 "nbformat": 4,
 "nbformat_minor": 4
}
