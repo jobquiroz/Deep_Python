{
 "cells": [
  {
   "cell_type": "markdown",
   "id": "nominated-syntax",
   "metadata": {},
   "source": [
    "## Introduction\n",
    "\n",
    "In the last mission, we learned a lot about about how decorators work. In this mission, we'll continue learning more about decorators as we work with real world decorators and learn how to write decorators that take arguments.\n",
    "\n",
    "First, let's look at some real world decorators so you can start to recognize common decorator patterns.\n",
    "\n",
    "Memoizing is the process of storing the results of a function so that the next time the function is called with the same arguments, you can just look up the answer.\n",
    "\n",
    "We start by setting up a dictionary that will map arguments to results. Then, as usual, we create wrapper() to be the new decorated function that this decorator returns."
   ]
  },
  {
   "cell_type": "code",
   "execution_count": 1,
   "id": "guilty-mexico",
   "metadata": {},
   "outputs": [],
   "source": [
    "def memoize(func):\n",
    "    \"\"\"Store the results of the decorated function for fast lookup\n",
    "    \"\"\"\n",
    "\n",
    "    # Store results in a dict that maps arguments to results\n",
    "    cache = {}\n",
    "\n",
    "    def wrapper(*args, **kwargs):\n",
    "        keys = (args, tuple(kwargs.items()))\n",
    "        # If these arguments haven't been seen before, call func() and store the result.\n",
    "        if keys not in cache:\n",
    "            cache[keys] = func(*args, **kwargs)\n",
    "        return cache[keys]\n",
    "\n",
    "    return wrapper"
   ]
  },
  {
   "cell_type": "markdown",
   "id": "incoming-grace",
   "metadata": {},
   "source": [
    "When the new function gets called, we check to see whether we've ever seen these arguments before. If we haven't, we send them to the decorated function, and store the result in the cache dictionary.\n",
    "\n",
    "Now we can look up the return value quickly in a dictionary of results. The next time we call this function with those same arguments, the return value will already be in the dictionary.\n",
    "\n",
    "Here we are memoizing slow_function(). slow_function() simply returns the sum of its arguments. In order to simulate a slow function, we have it sleep for 5 seconds before returning."
   ]
  },
  {
   "cell_type": "code",
   "execution_count": 2,
   "id": "surface-discrimination",
   "metadata": {},
   "outputs": [],
   "source": [
    "import time\n",
    "\n",
    "@memoize\n",
    "def slow_function(a, b):\n",
    "    print('Sleeping...')\n",
    "    time.sleep(5)\n",
    "    return a + b"
   ]
  },
  {
   "cell_type": "markdown",
   "id": "spatial-corner",
   "metadata": {},
   "source": [
    "If we call slow_function() with the arguments 3 and 4, it will sleep for 5 seconds and then return 7."
   ]
  },
  {
   "cell_type": "code",
   "execution_count": 3,
   "id": "hungry-terror",
   "metadata": {},
   "outputs": [
    {
     "name": "stdout",
     "output_type": "stream",
     "text": [
      "Sleeping...\n"
     ]
    },
    {
     "data": {
      "text/plain": [
       "7"
      ]
     },
     "execution_count": 3,
     "metadata": {},
     "output_type": "execute_result"
    }
   ],
   "source": [
    "slow_function(3, 4)"
   ]
  },
  {
   "cell_type": "markdown",
   "id": "african-reproduction",
   "metadata": {},
   "source": [
    "But if we call slow_function() with the arguments 3 and 4 again, it will immediately return 7."
   ]
  },
  {
   "cell_type": "code",
   "execution_count": 5,
   "id": "adopted-council",
   "metadata": {},
   "outputs": [
    {
     "data": {
      "text/plain": [
       "7"
      ]
     },
     "execution_count": 5,
     "metadata": {},
     "output_type": "execute_result"
    }
   ],
   "source": [
    "slow_function(3, 4)"
   ]
  },
  {
   "cell_type": "markdown",
   "id": "refined-surname",
   "metadata": {},
   "source": [
    "Because we've stored the answer in the cache, the decorated function doesn't even have to call the original slow_function() function."
   ]
  },
  {
   "cell_type": "markdown",
   "id": "criminal-coordination",
   "metadata": {},
   "source": [
    "You're working on a project, and you are curious about how many times each of the functions in it gets called. So you decide to write a decorator that adds a counter to each function that you decorate. You could use this information in the future to determine whether there are sections of code that you could remove because they are no longer being used. "
   ]
  },
  {
   "cell_type": "code",
   "execution_count": 6,
   "id": "pharmaceutical-triangle",
   "metadata": {},
   "outputs": [
    {
     "name": "stdout",
     "output_type": "stream",
     "text": [
      "calling foo()\n",
      "calling foo()\n",
      "foo() was called 2 times.\n"
     ]
    }
   ],
   "source": [
    "def counter(func):\n",
    "    def wrapper(*args, **kwargs):\n",
    "        wrapper.count += 1\n",
    "        return func(*args, **kwargs)\n",
    "        # Call the function being decorated and return the result\n",
    "\n",
    "    wrapper.count = 0\n",
    "    # Return the new decorated function\n",
    "    return wrapper\n",
    "\n",
    "@counter\n",
    "def foo():\n",
    "    print('calling foo()')    \n",
    "\n",
    "foo()\n",
    "foo()\n",
    "\n",
    "print('foo() was called {} times.'.format(foo.count))"
   ]
  },
  {
   "cell_type": "markdown",
   "id": "amber-economics",
   "metadata": {},
   "source": [
    "### Real World decorators\n",
    "\n",
    "Let's look at another example of a real world decorator.\n",
    "\n",
    "The `timer()` decorator runs the decorated function and then prints how long it took for the function to run. It's good to add some version of this to all of your projects because it is a pretty easy way to figure out where your computational bottlenecks are."
   ]
  },
  {
   "cell_type": "code",
   "execution_count": null,
   "id": "victorian-bacon",
   "metadata": {},
   "outputs": [],
   "source": [
    "import time\n",
    "\n",
    "def timer(func):\n",
    "    \"\"\"A decorator that prints how long a function took to run.\n",
    "\n",
    "    Args:\n",
    "         func (callable): The function being decorated.\n",
    "\n",
    "    Returns:\n",
    "         callable: The decorated function.\n",
    "    \"\"\""
   ]
  },
  {
   "cell_type": "markdown",
   "id": "subtle-shade",
   "metadata": {},
   "source": [
    "All decorators have fairly similar looking docstrings because they all take and return a single function. For brevity, we will only include the description of the function in the docstrings of the examples that follow.\n",
    "\n",
    "Like most decorators, we'll start off by defining a wrapper() function. This is the function that the decorator will return. wrapper() takes any number of positional and keyword arguments, so that it can be used to decorate any function."
   ]
  },
  {
   "cell_type": "code",
   "execution_count": 7,
   "id": "crazy-atlanta",
   "metadata": {},
   "outputs": [],
   "source": [
    "def timer(func):\n",
    "    \"\"\"A decorator that prints how long a function took to run.\"\"\"\n",
    "\n",
    "    # Define the wrapper function to return.\n",
    "    def wrapper(*args, **kwargs):\n",
    "        # When wrapper() is called, get the current time.\n",
    "        t_start = time.time()\n",
    "\n",
    "        # Call the decorated function and store the result.\n",
    "        result = func(*args, **kwargs)\n",
    "\n",
    "        # Get the total time it took to run, and print it.\n",
    "        t_total = time.time() - t_start\n",
    "\n",
    "        print('{} took {}s'.format(func.__name__, t_total))        \n",
    "        return result\n",
    "\n",
    "    return wrapper"
   ]
  },
  {
   "cell_type": "markdown",
   "id": "adjusted-firmware",
   "metadata": {},
   "source": [
    "The first thing the new function will do is record the time that it was called with the time() function. Then wrapper() gets the result of calling the decorated function. We don't return that value yet, though.\n",
    "\n",
    "After calling the decorated function, wrapper() checks the time again, and prints a message about how long it took to run the decorated function.\n",
    "\n",
    "Once we've done that, we need to return the value that the decorated function calculated.\n",
    "\n",
    "So if we decorate this simple sleep_n_seconds() function, you can see that sleeping for 5 seconds takes about 5 seconds and sleeping for 10 seconds takes about 10 seconds."
   ]
  },
  {
   "cell_type": "code",
   "execution_count": 8,
   "id": "dynamic-habitat",
   "metadata": {},
   "outputs": [],
   "source": [
    "@timer\n",
    "def sleep_n_seconds(n):\n",
    "    time.sleep(n)"
   ]
  },
  {
   "cell_type": "code",
   "execution_count": 9,
   "id": "breeding-brother",
   "metadata": {},
   "outputs": [
    {
     "name": "stdout",
     "output_type": "stream",
     "text": [
      "sleep_n_seconds took 5.004017114639282s\n"
     ]
    }
   ],
   "source": [
    "sleep_n_seconds(5)"
   ]
  },
  {
   "cell_type": "code",
   "execution_count": 10,
   "id": "adjacent-chassis",
   "metadata": {},
   "outputs": [
    {
     "name": "stdout",
     "output_type": "stream",
     "text": [
      "sleep_n_seconds took 10.009540319442749s\n"
     ]
    }
   ],
   "source": [
    "sleep_n_seconds(10)"
   ]
  },
  {
   "cell_type": "markdown",
   "id": "persistent-adolescent",
   "metadata": {},
   "source": [
    "This is a trivial use of the decorator to show it working, but it can be very useful for finding the slow parts of your code."
   ]
  },
  {
   "cell_type": "markdown",
   "id": "premier-picnic",
   "metadata": {},
   "source": [
    "**Exercise**\n",
    "\n",
    "Write a decorator, print_return_type(), that will print out the type of the variable that gets returned from every call of any function it is decorating."
   ]
  },
  {
   "cell_type": "code",
   "execution_count": 12,
   "id": "proud-service",
   "metadata": {},
   "outputs": [
    {
     "name": "stdout",
     "output_type": "stream",
     "text": [
      "foo() returned type <class 'int'>\n",
      "42\n",
      "foo() returned type <class 'list'>\n",
      "[1, 2, 3]\n",
      "foo() returned type <class 'dict'>\n",
      "{'a': 42}\n"
     ]
    }
   ],
   "source": [
    "def print_return_type(func):\n",
    "    def wrapper(*args, **kwargs):\n",
    "        result = func(*args, **kwargs)\n",
    "        print('{}() returned type {}'.format(func.__name__, type(result)))\n",
    "        return result\n",
    "    return wrapper\n",
    "\n",
    "\n",
    "@print_return_type\n",
    "def foo(value):\n",
    "    return value\n",
    "\n",
    "print(foo(42))\n",
    "print(foo([1,2,3]))\n",
    "print(foo({'a': 42}))"
   ]
  },
  {
   "cell_type": "markdown",
   "id": "secure-perth",
   "metadata": {},
   "source": [
    "### Preserving metadata when decorating functions\n",
    "\n",
    "One of the problems with decorators is that they obscure the decorated function's metadata.\n",
    "\n",
    "Let's return to the sleep_n_seconds() function from the previous screen and add a docstring that explains exactly what it does."
   ]
  },
  {
   "cell_type": "code",
   "execution_count": 13,
   "id": "threaded-harmony",
   "metadata": {},
   "outputs": [],
   "source": [
    "def sleep_n_seconds(n=10):\n",
    "    \"\"\"Pause processing for n seconds.\n",
    "\n",
    "    Args:\n",
    "        n (int): The number of seconds to pause for.\n",
    "    \"\"\"\n",
    "    time.sleep(n)"
   ]
  },
  {
   "cell_type": "markdown",
   "id": "thick-composite",
   "metadata": {},
   "source": [
    "If we look at the docstring attribute, we can see the text of the docstring."
   ]
  },
  {
   "cell_type": "code",
   "execution_count": 15,
   "id": "statewide-master",
   "metadata": {},
   "outputs": [
    {
     "name": "stdout",
     "output_type": "stream",
     "text": [
      "Pause processing for n seconds.\n",
      "\n",
      "    Args:\n",
      "        n (int): The number of seconds to pause for.\n",
      "    \n"
     ]
    }
   ],
   "source": [
    "print(sleep_n_seconds.__doc__)"
   ]
  },
  {
   "cell_type": "markdown",
   "id": "driven-longer",
   "metadata": {},
   "source": [
    "We can also access other metadata for the function, like its name and default arguments."
   ]
  },
  {
   "cell_type": "code",
   "execution_count": 17,
   "id": "strange-shade",
   "metadata": {},
   "outputs": [
    {
     "name": "stdout",
     "output_type": "stream",
     "text": [
      "sleep_n_seconds\n"
     ]
    }
   ],
   "source": [
    "print(sleep_n_seconds.__name__)"
   ]
  },
  {
   "cell_type": "code",
   "execution_count": 18,
   "id": "boring-recorder",
   "metadata": {},
   "outputs": [
    {
     "name": "stdout",
     "output_type": "stream",
     "text": [
      "(10,)\n"
     ]
    }
   ],
   "source": [
    "print(sleep_n_seconds.__defaults__)"
   ]
  },
  {
   "cell_type": "markdown",
   "id": "affecting-trunk",
   "metadata": {},
   "source": [
    "Next, let's see what happens when we decorate sleep_n_seconds() with the timer() decorator and try to access its metadata again."
   ]
  },
  {
   "cell_type": "code",
   "execution_count": 20,
   "id": "hollywood-ceramic",
   "metadata": {},
   "outputs": [
    {
     "name": "stdout",
     "output_type": "stream",
     "text": [
      "None\n",
      "wrapper\n"
     ]
    }
   ],
   "source": [
    "def timer(func):\n",
    "    \"\"\"A decorator that prints how long a function took to run.\"\"\"  \n",
    "    def wrapper(*args, **kwargs):\n",
    "        t_start = time.time()\n",
    "    \n",
    "        result = func(*args, **kwargs)\n",
    "    \n",
    "        t_total = time.time() - t_start\n",
    "        print('{} took {}s'.format(func.__name__, t_total))\n",
    "    \n",
    "        return result\n",
    "    return wrapper\n",
    "\n",
    "@timer\n",
    "def sleep_n_seconds(n=10):\n",
    "    \"\"\"Pause processing for n seconds.\n",
    "  \n",
    "    Args:\n",
    "        n (int): The number of seconds to pause for.\n",
    "    \"\"\"\n",
    "    time.sleep(n)\n",
    "    \n",
    "\n",
    "print(sleep_n_seconds.__doc__)\n",
    "print(sleep_n_seconds.__name__)"
   ]
  },
  {
   "cell_type": "markdown",
   "id": "offensive-ceiling",
   "metadata": {},
   "source": [
    "Remember that when we write decorators we almost always define a nested function to return. Because the decorator overwrites the sleep_n_seconds() function, when we ask for sleep_n_seconds()'s docstring or name, we are actually referencing the nested function that was returned by the decorator. In this case, the nested function was called wrapper() and it didn't have a docstring.\n",
    "\n",
    "Fortunately, Python provides us with an easy way to fix this. The `wraps()` function from the functools module is a decorator that we use when defining a decorator. If we use it to decorate the wrapper function that our decorator returns, it will modify wrapper()'s metadata to look like the function we are decorating."
   ]
  },
  {
   "cell_type": "code",
   "execution_count": 21,
   "id": "similar-maximum",
   "metadata": {},
   "outputs": [],
   "source": [
    "from functools import wraps\n",
    "\n",
    "def timer(func):\n",
    "    \"\"\"A decorator that prints how long a function took to run.\"\"\"\n",
    "    @wraps(func)\n",
    "    def wrapper(*args, **kwargs):\n",
    "        t_start = time.time()\n",
    "        result = func(*args, **kwargs)\n",
    "        t_total = time.time() - t_start\n",
    "        \n",
    "        print('{} took {}s'.format(func.__name__, t_total))\n",
    "\n",
    "        return result\n",
    "    return wrapper"
   ]
  },
  {
   "cell_type": "markdown",
   "id": "local-radio",
   "metadata": {},
   "source": [
    "Notice that the wraps() decorator takes the function we are decorating as an argument. We haven't talked about **decorators that take arguments yet**, but we will cover that in the next screen.\n",
    "\n",
    "If we use this updated version of the timer() decorator to decorate sleep_n_seconds() and then try to print sleep_n_seconds()'s docstring, we get the result we expect."
   ]
  },
  {
   "cell_type": "code",
   "execution_count": 22,
   "id": "speaking-premiere",
   "metadata": {},
   "outputs": [],
   "source": [
    "@timer\n",
    "def sleep_n_seconds(n=10):\n",
    "    \"\"\"Pause processing for n seconds.\n",
    "\n",
    "    Args:\n",
    "        n (int): The number of seconds to pause for.\n",
    "    \"\"\"\n",
    "    time.sleep(n)"
   ]
  },
  {
   "cell_type": "code",
   "execution_count": 23,
   "id": "defensive-authority",
   "metadata": {},
   "outputs": [
    {
     "name": "stdout",
     "output_type": "stream",
     "text": [
      "Pause processing for n seconds.\n",
      "\n",
      "    Args:\n",
      "        n (int): The number of seconds to pause for.\n",
      "    \n"
     ]
    }
   ],
   "source": [
    "print(sleep_n_seconds.__doc__)"
   ]
  },
  {
   "cell_type": "markdown",
   "id": "mineral-token",
   "metadata": {},
   "source": [
    "Likewise, printing the name or any other metadata now gives us the metadata from the function being decorated rather than the metadata of the wrapper() function.\n",
    "\n",
    "As an added bonus, using wraps() when creating our decorator also gives us easy access to the original undecorated function via the `__wrapped__` attribute. Of course, we always had access to this function via the closure, but this is an easy way to get to it if we need it."
   ]
  },
  {
   "cell_type": "code",
   "execution_count": 24,
   "id": "together-fellowship",
   "metadata": {},
   "outputs": [],
   "source": [
    "@timer\n",
    "def sleep_n_seconds(n=10):\n",
    "    \"\"\"Pause processing for n seconds.\n",
    "\n",
    "    Args:\n",
    "        n (int): The number of seconds to pause for.\n",
    "    \"\"\"\n",
    "    time.sleep(n)"
   ]
  },
  {
   "cell_type": "code",
   "execution_count": 25,
   "id": "rapid-passing",
   "metadata": {},
   "outputs": [
    {
     "data": {
      "text/plain": [
       "<function __main__.sleep_n_seconds(n=10)>"
      ]
     },
     "execution_count": 25,
     "metadata": {},
     "output_type": "execute_result"
    }
   ],
   "source": [
    "sleep_n_seconds.__wrapped__"
   ]
  },
  {
   "cell_type": "markdown",
   "id": "surgical-survivor",
   "metadata": {},
   "source": [
    "### Adding arguments to decorators\n",
    "\n",
    "Sometimes it would be nice to add arguments to our decorators. To do that, we need another level of nesting in our decorators.\n",
    "\n",
    "Let's consider this silly `run_three_times()` decorator. If you use it to decorate a function, it will run that function three times."
   ]
  },
  {
   "cell_type": "code",
   "execution_count": 26,
   "id": "sound-marijuana",
   "metadata": {},
   "outputs": [],
   "source": [
    "def run_three_times(func):\n",
    "    def wrapper(*args, **kwargs):\n",
    "        for i in range(3):\n",
    "            func(*args, **kwargs)\n",
    "    return wrapper"
   ]
  },
  {
   "cell_type": "markdown",
   "id": "about-bridges",
   "metadata": {},
   "source": [
    "If we use it to decorate the print_sum() function and then run print_sum(3,5), it will print 8 three times."
   ]
  },
  {
   "cell_type": "code",
   "execution_count": 27,
   "id": "central-peace",
   "metadata": {},
   "outputs": [
    {
     "name": "stdout",
     "output_type": "stream",
     "text": [
      "8\n",
      "8\n",
      "8\n"
     ]
    }
   ],
   "source": [
    "@run_three_times\n",
    "def print_sum(a, b):\n",
    "    print(a + b)\n",
    "\n",
    "print_sum(3, 5)"
   ]
  },
  {
   "cell_type": "markdown",
   "id": "physical-pipeline",
   "metadata": {},
   "source": [
    "Let's think about what we would need to change if we wanted to write a `run_n_times()` decorator. We want to pass `n` in as an argument, instead of hard-coding in the decorator."
   ]
  },
  {
   "cell_type": "code",
   "execution_count": null,
   "id": "tribal-desert",
   "metadata": {},
   "outputs": [],
   "source": [
    "def run_n_times(func):\n",
    "    def wrapper(*args, **kwargs):\n",
    "        # How do we pass \"n\" into this function?\n",
    "        for i in range(???):\n",
    "            func(*args, **kwargs)\n",
    "    return wrapper"
   ]
  },
  {
   "cell_type": "markdown",
   "id": "permanent-thesaurus",
   "metadata": {},
   "source": [
    "If we had some way to pass n into the decorator, we could decorate `print_sum()` so that it gets run three times and decorate the `print_hello()` function to run five times."
   ]
  },
  {
   "cell_type": "code",
   "execution_count": null,
   "id": "pacific-designer",
   "metadata": {},
   "outputs": [],
   "source": [
    "@run_n_times(3)\n",
    "def print_sum(a, b):\n",
    "    print(a + b)"
   ]
  },
  {
   "cell_type": "code",
   "execution_count": null,
   "id": "coated-assessment",
   "metadata": {},
   "outputs": [],
   "source": [
    "@run_n_times(5)\n",
    "def print_hello():\n",
    "    print('Hello!')"
   ]
  },
  {
   "cell_type": "markdown",
   "id": "banner-teddy",
   "metadata": {},
   "source": [
    "But a decorator is only supposed to take one argument - the function it is decorating. Also, when we use decorator syntax, we're not supposed to use the parentheses. So how can this be done?\n",
    "\n",
    "To make run_n_times() work, we have to **turn it into a function that returns a decorator, rather than a function that is a decorator.**"
   ]
  },
  {
   "cell_type": "markdown",
   "id": "motivated-subscriber",
   "metadata": {},
   "source": [
    "Let's turn run_n_times() into a function that returns a decorator so we can add arguments to it.\n",
    "\n",
    "We'll start by redefining `run_n_times()` so that it takes n as an argument, instead of `func`. Then, inside of `run_n_times()`, we'll define a new decorator function. This function takes `func` as an argument, because it is the function that will be acting as our decorator."
   ]
  },
  {
   "cell_type": "code",
   "execution_count": 29,
   "id": "consecutive-maker",
   "metadata": {},
   "outputs": [],
   "source": [
    "def run_n_times(n):\n",
    "    \"\"\"Define and return a decorator\"\"\"\n",
    "    def decorator(func):\n",
    "        def wrapper(*args, **kwargs):\n",
    "            for i in range(n):\n",
    "                func(*args, **kwargs)\n",
    "        return wrapper\n",
    "    return decorator"
   ]
  },
  {
   "cell_type": "markdown",
   "id": "expired-affiliation",
   "metadata": {},
   "source": [
    "We start our new decorator with a nested `wrapper()` function, as usual.\n",
    "\n",
    "Now, since we are still inside the `run_n_times()` function, we have access to the n parameter that was passed to run_n_times(). We can use that to control how many times we repeat the loop that calls our decorated function.\n",
    "\n",
    "As usual for any decorator, we return the new `wrapper()` function. And, if `run_n_times()` returns the decorator() function we just defined, then we can use that return value as a decorator.\n",
    "\n",
    "Notice how when we decorate print_sum() with run_n_times(), we use parentheses after @run_n_times."
   ]
  },
  {
   "cell_type": "code",
   "execution_count": 33,
   "id": "accompanied-enterprise",
   "metadata": {},
   "outputs": [],
   "source": [
    "@run_n_times(3)\n",
    "def print_sum(a, b):\n",
    "    print(a + b)"
   ]
  },
  {
   "cell_type": "markdown",
   "id": "assumed-greenhouse",
   "metadata": {},
   "source": [
    "This indicates that we are actually calling run_n_times() and decorating print_sum() with the result of that function call. Since the return value from run_n_times() is a decorator function, we can use it to decorate print_sum().\n",
    "\n",
    "When we use decorator syntax, the thing that comes after the @ symbol must be a reference to a decorator function. We can use the name of a specific decorator, or we can call a function that returns a decorator.\n"
   ]
  },
  {
   "cell_type": "code",
   "execution_count": 32,
   "id": "inside-aggregate",
   "metadata": {},
   "outputs": [
    {
     "name": "stdout",
     "output_type": "stream",
     "text": [
      "3\n",
      "3\n",
      "3\n"
     ]
    }
   ],
   "source": [
    "print_sum(1,2)"
   ]
  },
  {
   "cell_type": "markdown",
   "id": "nuclear-blocking",
   "metadata": {},
   "source": [
    "### Real world decorators with arguments\n",
    "\n",
    "Let's finish up by looking at an example of a real world decorator that takes an argument to get a better sense of how they work.\n",
    "\n",
    "For our first example, let's imagine that we have some functions that occasionally either run for longer than we want them to, or just hang and never return.\n",
    "\n",
    "It would be nice if we could add some kind of timeout() decorator to those functions that will raise an error if the function runs for longer than expected.\n",
    "\n",
    "```\n",
    "@timeout\n",
    "def function1():\n",
    "    # This function sometimes\n",
    "    # runs for a loooong time\n",
    "    ...\n",
    "```\n",
    "\n",
    "```\n",
    "@timeout\n",
    "def function2():\n",
    "    # This function sometimes\n",
    "    # hangs and doesn't return\n",
    "    ...\n",
    "```\n",
    "\n",
    "To create the `timeout()` decorator, we are going to use some functions from Python's `signal` module. These functions have nothing to do with decorators, but understanding them will help us understand the timeout() decorator."
   ]
  },
  {
   "cell_type": "code",
   "execution_count": 38,
   "id": "palestinian-allergy",
   "metadata": {},
   "outputs": [],
   "source": [
    "import signal"
   ]
  },
  {
   "cell_type": "markdown",
   "id": "appropriate-grain",
   "metadata": {},
   "source": [
    "The raise_timeout() function simply raises a TimeoutError when it is called."
   ]
  },
  {
   "cell_type": "code",
   "execution_count": 35,
   "id": "annual-bearing",
   "metadata": {},
   "outputs": [],
   "source": [
    "def raise_timeout(*args, **kwargs):\n",
    "    raise TimeoutError()"
   ]
  },
  {
   "cell_type": "markdown",
   "id": "monetary-ladder",
   "metadata": {},
   "source": [
    "The `signal()` function tells Python, *\"When you see the signal whose number is signalnum, call the handler function.\"* In this case, we tell Python to call raise_timeout() whenever it sees the alarm signal."
   ]
  },
  {
   "cell_type": "code",
   "execution_count": null,
   "id": "unnecessary-revelation",
   "metadata": {},
   "outputs": [],
   "source": [
    "# When an \"alarm\" signal goes off, call raise_timeout()\n",
    "signal.signal(signalnum=signal.SIGALRM, handler=raise_timeout)"
   ]
  },
  {
   "cell_type": "markdown",
   "id": "wanted-geometry",
   "metadata": {},
   "source": [
    "The alarm() function lets us set an alarm for some number of seconds in the future."
   ]
  },
  {
   "cell_type": "code",
   "execution_count": null,
   "id": "russian-limit",
   "metadata": {},
   "outputs": [],
   "source": [
    "# Set off an alarm in 5 seconds\n",
    "signal.alarm(5)"
   ]
  },
  {
   "cell_type": "markdown",
   "id": "unknown-hunger",
   "metadata": {},
   "source": [
    "Passing 0 to the alarm() function cancels the alarm."
   ]
  },
  {
   "cell_type": "code",
   "execution_count": null,
   "id": "compressed-center",
   "metadata": {},
   "outputs": [],
   "source": [
    "# Cancel the alarm\n",
    "signal.alarm(0)"
   ]
  },
  {
   "cell_type": "markdown",
   "id": "korean-antique",
   "metadata": {},
   "source": [
    "We'll start by creating a decorator that times out in exactly 5 seconds, and then build from there to create a decorator that takes the timeout length as an argument.\n",
    "\n",
    "Our timeout_in_5s() decorator starts off by defining a wrapper() function to return as the new decorated function. Returning this function is what makes timeout_in_5s() a decorator."
   ]
  },
  {
   "cell_type": "code",
   "execution_count": 40,
   "id": "balanced-imagination",
   "metadata": {},
   "outputs": [],
   "source": [
    "def timeout_in_5s(func):\n",
    "    @wraps(func)\n",
    "    def wrapper(*args, **kwargs):\n",
    "        # Set an alarm for 5 seconds\n",
    "        signal.alarm(5)\n",
    "        try:\n",
    "            # Call the decorated func\n",
    "            return func(*args, **kwargs)\n",
    "        finally:\n",
    "            # Cancel alarm\n",
    "            signal.alarm(0)\n",
    "    return wrapper"
   ]
  },
  {
   "cell_type": "markdown",
   "id": "specified-cornwall",
   "metadata": {},
   "source": [
    "First wrapper() sets an alarm for 5 seconds in the future.\n",
    "\n",
    "Then it calls the function being decorated. It wraps that call in a try block so that in a finally block we can cancel the alarm. This ensures that the alarm either rings or gets canceled. Remember, when the alarm rings, Python calls the raise_timeout() function.\n",
    "\n",
    "Let's use timeout_in_5s() to decorate a function that will definitely timeout next. foo() sleeps for 10 seconds and the prints \"foo!\"."
   ]
  },
  {
   "cell_type": "code",
   "execution_count": 41,
   "id": "sized-centre",
   "metadata": {},
   "outputs": [],
   "source": [
    "@timeout_in_5s\n",
    "def foo():\n",
    "    time.sleep(10)\n",
    "    print('foo!')"
   ]
  },
  {
   "cell_type": "markdown",
   "id": "original-combine",
   "metadata": {},
   "source": [
    "If we call foo(), the 5 second alarm will ring before it finishes sleeping, and Python will raise a TimeoutErrror."
   ]
  },
  {
   "cell_type": "code",
   "execution_count": null,
   "id": "electrical-alcohol",
   "metadata": {},
   "outputs": [],
   "source": [
    "foo()   # -> Timeout Error"
   ]
  },
  {
   "cell_type": "markdown",
   "id": "younger-northwest",
   "metadata": {},
   "source": [
    "Next, let's create a more useful version of the timeout() decorator that takes the timeout length as an argument. In order to do so, we'll change the timeout_in_5s decorator to a function that returns a decorator. So, when we call timeout(), we want it to return a brand new decorator that times out in 5 seconds, or 20 seconds, or whatever value we pass to it."
   ]
  },
  {
   "cell_type": "code",
   "execution_count": null,
   "id": "returning-extra",
   "metadata": {},
   "outputs": [],
   "source": [
    "import signal\n",
    "\n",
    "def timeout(n_seconds):\n",
    "    def decorator(func):\n",
    "        @wraps(func)\n",
    "        def wrapper(*args, **kwargs):\n",
    "            # Set an alarm for 5 seconds\n",
    "            signal.alarm(n_seconds)\n",
    "            try:\n",
    "                # Call the decorated func\n",
    "                return func(*args, **kwargs)\n",
    "            finally:\n",
    "                # Cancel alarm\n",
    "                signal.alarm(0)\n",
    "        return wrapper\n",
    "    return decorator\n",
    "\n",
    "@timeout(20)\n",
    "def bar():\n",
    "    time.sleep(10)\n",
    "    print('bar!')\n",
    "    \n",
    "bar()"
   ]
  },
  {
   "cell_type": "markdown",
   "id": "polyphonic-valuable",
   "metadata": {},
   "source": [
    "Another example for tagging:"
   ]
  },
  {
   "cell_type": "code",
   "execution_count": null,
   "id": "convenient-aside",
   "metadata": {},
   "outputs": [],
   "source": [
    "def tag(*tags):\n",
    "    # Define a new decorator to return\n",
    "    def decorator(func):\n",
    "        # Ensure the decorated function keeps its metadata\n",
    "        @wraps(func)\n",
    "        def wrapper(*args, **kwargs):\n",
    "            # Call the function being decorated and return the result\n",
    "            return func(*args, **kwargs)\n",
    "        wrapper.tags = tags\n",
    "        return wrapper\n",
    "    # Return the new decorator\n",
    "    return decorator\n",
    "\n",
    "\n",
    "@tag('test', 'this is a tag')\n",
    "def foo():\n",
    "    pass\n",
    "\n",
    "print(foo.tags)"
   ]
  },
  {
   "cell_type": "code",
   "execution_count": null,
   "id": "young-strap",
   "metadata": {},
   "outputs": [],
   "source": []
  }
 ],
 "metadata": {
  "kernelspec": {
   "display_name": "Python 3",
   "language": "python",
   "name": "python3"
  },
  "language_info": {
   "codemirror_mode": {
    "name": "ipython",
    "version": 3
   },
   "file_extension": ".py",
   "mimetype": "text/x-python",
   "name": "python",
   "nbconvert_exporter": "python",
   "pygments_lexer": "ipython3",
   "version": "3.8.5"
  }
 },
 "nbformat": 4,
 "nbformat_minor": 5
}
