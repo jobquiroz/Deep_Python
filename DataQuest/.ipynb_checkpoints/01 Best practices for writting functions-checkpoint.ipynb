{
 "cells": [
  {
   "cell_type": "markdown",
   "id": "specific-article",
   "metadata": {},
   "source": [
    "## Introducing docstrings\n",
    "\n",
    "In this mission, we'll cover some best practices that will make your code much easier to use, read, and maintain, including:\n",
    "\n",
    "- How to document your code so that others can easily understand it.\n",
    "- How to create functions that are easier to test, debug, and change.\n",
    "- How to setup default arguments in functions so that your code doesn't behave unexpectedly.\n",
    "\n",
    "Let's start by looking at this split_and_stack() function:"
   ]
  },
  {
   "cell_type": "code",
   "execution_count": 3,
   "id": "finite-toddler",
   "metadata": {},
   "outputs": [],
   "source": [
    "def split_and_stack(df, new_names):\n",
    "    half = int(len(df.columns) / 2)\n",
    "    left = df.iloc[:, :half]\n",
    "    right = df.iloc[:, half:]\n",
    "    return pd.DataFrame(data=np.vstack([left.values, right.values]), columns=new_names)"
   ]
  },
  {
   "cell_type": "markdown",
   "id": "novel-myanmar",
   "metadata": {},
   "source": [
    "If we wanted to understand what the function does, what the arguments are supposed to be, and what it returns, we would have to spend some time deciphering the code.\n",
    "\n",
    "With a **docstring** though, it is much easier to tell what the expected inputs and outputs should be, as well as what the function does. A docstring is a string written as the first line of a function. Because docstrings usually span multiple lines, they are enclosed in triple quotes, Python's way of writing multi-line strings:"
   ]
  },
  {
   "cell_type": "code",
   "execution_count": 4,
   "id": "dramatic-assumption",
   "metadata": {},
   "outputs": [],
   "source": [
    "def split_and_stack(df, new_names):\n",
    "    \"\"\"Splits a DataFrame's columns into two halves and then stack\n",
    "    them vertically, returning a new DataFrame with `new_names` as the\n",
    "    column names.\n",
    "\n",
    "    Args:\n",
    "      df (DataFrame): The DataFrame to split.\n",
    "      new_names (iterable of str): The column names for the new DataFrame.\n",
    "\n",
    "    Returns:\n",
    "      DataFrame\n",
    "    \"\"\"\n",
    "    half = int(len(df.columns) / 2)\n",
    "    left = df.iloc[:, :half]\n",
    "    right = df.iloc[:, half:]\n",
    "    return pd.DataFrame(\n",
    "      data=np.vstack([left.values, right.values]),\n",
    "      columns=new_names\n",
    "    )"
   ]
  },
  {
   "cell_type": "markdown",
   "id": "awful-harris",
   "metadata": {},
   "source": [
    "Every docstring has some (although usually not all) of these five key pieces of information:\n",
    "\n",
    "- Description of what the function does.\n",
    "- Description of the arguments, if any.\n",
    "- Description of the return value(s), if any.\n",
    "- Description of errors raised, if any.\n",
    "- Optional extra notes or examples of usage.\n",
    "\n",
    "Docstrings makes it easier for you and other data scientists or engineers to use, read, and maintain your code in the future. Remember that even though computers execute it, code is actually written for humans to read (otherwise you'd just be writing the 1s and 0s that the computer operates on)."
   ]
  },
  {
   "cell_type": "markdown",
   "id": "certified-sacramento",
   "metadata": {},
   "source": [
    "### Retrieving docstrings\n",
    "\n",
    "Every function in Python comes with a __doc__ attribute that holds the contents of the function's docstring."
   ]
  },
  {
   "cell_type": "code",
   "execution_count": 5,
   "id": "sustainable-batman",
   "metadata": {},
   "outputs": [],
   "source": [
    "def the_answer():\n",
    "    \"\"\"Returns the answer to life, \n",
    "    the universe, and everything.\n",
    "\n",
    "    Returns:\n",
    "        int\n",
    "    \"\"\"\n",
    "    return 42"
   ]
  },
  {
   "cell_type": "code",
   "execution_count": 6,
   "id": "chemical-ocean",
   "metadata": {},
   "outputs": [
    {
     "name": "stdout",
     "output_type": "stream",
     "text": [
      "Returns the answer to life, \n",
      "    the universe, and everything.\n",
      "\n",
      "    Returns:\n",
      "        int\n",
      "    \n"
     ]
    }
   ],
   "source": [
    "print(the_answer.__doc__)"
   ]
  },
  {
   "cell_type": "markdown",
   "id": "solved-pollution",
   "metadata": {},
   "source": [
    "Notice that the __doc__ attribute contains the raw docstring, including any tabs or spaces that were added to make the words visually line up.\n",
    "\n",
    "To get a cleaner version, with those leading spaces removed, we can use the getdoc() function from the inspect module."
   ]
  },
  {
   "cell_type": "code",
   "execution_count": 7,
   "id": "abandoned-finding",
   "metadata": {},
   "outputs": [
    {
     "name": "stdout",
     "output_type": "stream",
     "text": [
      "Returns the answer to life, \n",
      "the universe, and everything.\n",
      "\n",
      "Returns:\n",
      "    int\n"
     ]
    }
   ],
   "source": [
    "import inspect\n",
    "\n",
    "print(inspect.getdoc(the_answer))"
   ]
  },
  {
   "cell_type": "markdown",
   "id": "fallen-bolivia",
   "metadata": {},
   "source": [
    "The inspect module contains a lot of useful methods for gathering information about functions, so we recommend you take some time at the end of this mission to read through the documentation.\n",
    "\n",
    "In Jupyter notebook, there's also a keyboard shortcut we can use to access the docstrings for built-in functions - just press `Shift` + `Tab` while the cursor is within the parentheses of a built-in function:"
   ]
  },
  {
   "cell_type": "markdown",
   "id": "dominican-making",
   "metadata": {},
   "source": [
    "### Google style docstrings\n",
    "\n",
    "Now that we know how to retrieve a function's docstring, let's learn how to write our own.\n",
    "\n",
    "Consistent style makes a project easier to read, and the Python community has evolved several standards for how to format docstrings. Google style and Numpydoc are the most popular formats. However, since Numpydoc takes up more vertical space, we'll focus on Google style in this mission to keep the examples compact and legible.\n",
    "\n",
    "#### Description of what the function does\n",
    "\n",
    "In Google style, the docstring starts with a concise description of what the function does. This should be in **imperative language**. For instance, we would write \"Split the data frame and stack the columns\" instead of \"This function will split the data frame and stack the columns.\"\n",
    "\n",
    "```\n",
    "def function(arg_1, arg_2=42):\n",
    "    \"\"\"Description of what the function does.\n",
    "    \"\"\"\n",
    "```    \n",
    "   \n",
    "#### Description of the arguments, if any\n",
    "\n",
    "Next comes the \"Args\" section where you list each argument name, followed by its expected type in parentheses, and then its role in the function. If you need extra space, break to the next line and indent, like below. If an argument has a default value, mark it as \"optional\" when describing the type. If the function does not take any parameters, leave this section out.\n",
    "\n",
    "```\n",
    "def function(arg_1, arg_2=42):\n",
    "    \"\"\"Description of what the function does.\n",
    "    Args:\n",
    "      arg_1 (str): Description of arg_1 that can break onto the next line\n",
    "        if needed.\n",
    "      arg_2 (int, optional): Write optional when an argument has a default\n",
    "        value.\n",
    "  \"\"\"\n",
    "```\n",
    "  \n",
    "#### Description of the return value(s), if any\n",
    "\n",
    "The next section is the \"Returns\" section, where you list the expected type or types of what gets returned. You can also provide some comment about what gets returned, but often the name of the function and the description will make this clear. Additional lines should not be indented.\n",
    "\n",
    "```\n",
    "def function(arg_1, arg_2=42):\n",
    "    \"\"\"Description of what the function does.\n",
    "    \n",
    "    Args:\n",
    "      arg_1 (str): Description of arg_1 that can break onto the next line\n",
    "        if needed.\n",
    "      arg_2 (int, optional): Write optional when an argument has a default\n",
    "        value.\n",
    "        \n",
    "    Returns:\n",
    "      bool: Optional description of the return value\n",
    "      Extra lines are not indented.\n",
    "    \"\"\"\n",
    "```\n",
    "\n",
    "\n",
    "#### Description of errors raised, if any.\n",
    "#### Optional extra notes or examples of usage.\n",
    "\n",
    "```\n",
    "def function(arg_1, arg_2=42):\n",
    "    \"\"\"Description of what the function does.\n",
    "\n",
    "    Args:\n",
    "      arg_1 (str): Description of arg_1 that can break onto the next line\n",
    "        if needed.\n",
    "      arg_2 (int, optional): Write optional when an argument has a default\n",
    "        value.\n",
    "\n",
    "    Returns:\n",
    "      bool: Optional description of the return value\n",
    "      Extra lines are not indented.\n",
    "\n",
    "    Raises:\n",
    "      ValueError: Include any error types that the function intentionally\n",
    "        raises.\n",
    "\n",
    "    Notes:\n",
    "      See https://www.dataquest.io for more info.  \n",
    "    \"\"\"\n",
    "```\n",
    "\n",
    "\n"
   ]
  },
  {
   "cell_type": "code",
   "execution_count": null,
   "id": "biblical-profession",
   "metadata": {},
   "outputs": [],
   "source": []
  }
 ],
 "metadata": {
  "kernelspec": {
   "display_name": "Python 3",
   "language": "python",
   "name": "python3"
  },
  "language_info": {
   "codemirror_mode": {
    "name": "ipython",
    "version": 3
   },
   "file_extension": ".py",
   "mimetype": "text/x-python",
   "name": "python",
   "nbconvert_exporter": "python",
   "pygments_lexer": "ipython3",
   "version": "3.8.5"
  }
 },
 "nbformat": 4,
 "nbformat_minor": 5
}
