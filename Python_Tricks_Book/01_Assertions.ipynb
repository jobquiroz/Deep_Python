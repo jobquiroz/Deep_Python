{
 "cells": [
  {
   "cell_type": "markdown",
   "metadata": {},
   "source": [
    "## An introduction to assertions in Python\n",
    "\n",
    "At its core, Python's assert statement is a debugging aid that tests a condition. **If the assert condition is true, nothing happens**, and your program continues to execute as normal. But **if the condition evaluates to false, an `AssertionError` exception is raised** with an optional error message.\n",
    "\n",
    "\n",
    "#### An example\n",
    "\n",
    "The following assertion will guarantee that, no matter what, discounted prices calculated by this function cannot be lower than $0 and they cannot be higher than product's original price."
   ]
  },
  {
   "cell_type": "code",
   "execution_count": 3,
   "metadata": {},
   "outputs": [
    {
     "data": {
      "text/plain": [
       "11175"
      ]
     },
     "execution_count": 3,
     "metadata": {},
     "output_type": "execute_result"
    }
   ],
   "source": [
    "def apply_discount(product, discount):\n",
    "    price = int(product['price'] * (1.0 - discount))\n",
    "    assert 0 <= price <= product['price']\n",
    "    return price\n",
    "\n",
    "shoes = {'name': 'Fancy Shoes', 'price': 14900}\n",
    "\n",
    "# applying 25% discount\n",
    "apply_discount(shoes, 0.25)"
   ]
  },
  {
   "cell_type": "code",
   "execution_count": 4,
   "metadata": {},
   "outputs": [
    {
     "ename": "AssertionError",
     "evalue": "",
     "output_type": "error",
     "traceback": [
      "\u001b[1;31m---------------------------------------------------------------------------\u001b[0m",
      "\u001b[1;31mAssertionError\u001b[0m                            Traceback (most recent call last)",
      "\u001b[1;32m<ipython-input-4-141099295b02>\u001b[0m in \u001b[0;36m<module>\u001b[1;34m\u001b[0m\n\u001b[0;32m      1\u001b[0m \u001b[1;31m# applying 200% discount\u001b[0m\u001b[1;33m\u001b[0m\u001b[1;33m\u001b[0m\u001b[1;33m\u001b[0m\u001b[0m\n\u001b[1;32m----> 2\u001b[1;33m \u001b[0mapply_discount\u001b[0m\u001b[1;33m(\u001b[0m\u001b[0mshoes\u001b[0m\u001b[1;33m,\u001b[0m \u001b[1;36m2.0\u001b[0m\u001b[1;33m)\u001b[0m\u001b[1;33m\u001b[0m\u001b[1;33m\u001b[0m\u001b[0m\n\u001b[0m",
      "\u001b[1;32m<ipython-input-3-cfe7c82a1203>\u001b[0m in \u001b[0;36mapply_discount\u001b[1;34m(product, discount)\u001b[0m\n\u001b[0;32m      1\u001b[0m \u001b[1;32mdef\u001b[0m \u001b[0mapply_discount\u001b[0m\u001b[1;33m(\u001b[0m\u001b[0mproduct\u001b[0m\u001b[1;33m,\u001b[0m \u001b[0mdiscount\u001b[0m\u001b[1;33m)\u001b[0m\u001b[1;33m:\u001b[0m\u001b[1;33m\u001b[0m\u001b[1;33m\u001b[0m\u001b[0m\n\u001b[0;32m      2\u001b[0m     \u001b[0mprice\u001b[0m \u001b[1;33m=\u001b[0m \u001b[0mint\u001b[0m\u001b[1;33m(\u001b[0m\u001b[0mproduct\u001b[0m\u001b[1;33m[\u001b[0m\u001b[1;34m'price'\u001b[0m\u001b[1;33m]\u001b[0m \u001b[1;33m*\u001b[0m \u001b[1;33m(\u001b[0m\u001b[1;36m1.0\u001b[0m \u001b[1;33m-\u001b[0m \u001b[0mdiscount\u001b[0m\u001b[1;33m)\u001b[0m\u001b[1;33m)\u001b[0m\u001b[1;33m\u001b[0m\u001b[1;33m\u001b[0m\u001b[0m\n\u001b[1;32m----> 3\u001b[1;33m     \u001b[1;32massert\u001b[0m \u001b[1;36m0\u001b[0m \u001b[1;33m<=\u001b[0m \u001b[0mprice\u001b[0m \u001b[1;33m<=\u001b[0m \u001b[0mproduct\u001b[0m\u001b[1;33m[\u001b[0m\u001b[1;34m'price'\u001b[0m\u001b[1;33m]\u001b[0m\u001b[1;33m\u001b[0m\u001b[1;33m\u001b[0m\u001b[0m\n\u001b[0m\u001b[0;32m      4\u001b[0m     \u001b[1;32mreturn\u001b[0m \u001b[0mprice\u001b[0m\u001b[1;33m\u001b[0m\u001b[1;33m\u001b[0m\u001b[0m\n\u001b[0;32m      5\u001b[0m \u001b[1;33m\u001b[0m\u001b[0m\n",
      "\u001b[1;31mAssertionError\u001b[0m: "
     ]
    }
   ],
   "source": [
    "# applying 200% discount\n",
    "apply_discount(shoes, 2.0)"
   ]
  },
  {
   "cell_type": "markdown",
   "metadata": {},
   "source": [
    "#### Why not just use a regular exception??\n",
    "\n",
    "The proper use of assertions is to inform developers about *unrecoverable* errors in a program.\n",
    "\n",
    "Assertions are meant to be *internal self-checks* for your program. They work by declaring some conditions as *impossible* in your code. If one of these conditions doesn't hold, that meant there's a bug in the program.\n",
    "\n",
    "#### Syntax:\n",
    "\n",
    "```Python\n",
    "assert_smt ::= \"assert\" expression1 [\",\" expression2]\n",
    "```"
   ]
  },
  {
   "cell_type": "markdown",
   "metadata": {},
   "source": [
    "### Common Pitfalls\n",
    "\n",
    "#### 1) Don't use asserts for Data Validation\n",
    "\n",
    "**Assertions can be globally disabled** with the -O and -OO command line switches. This turns any assert statement into a null-operations. \n",
    "\n",
    "As a side-effect, it becomes extremely dangerous to use asser statements as a quick and easy way to validate input data.\n",
    "\n",
    "#### Example"
   ]
  },
  {
   "cell_type": "code",
   "execution_count": 5,
   "metadata": {},
   "outputs": [],
   "source": [
    "def delete_product(prod_id, user):\n",
    "    assert used.is_admin(), \"Must be admin\"                 # If asserts are disabled all users can delete\n",
    "    assert store.has_product(prod_id), 'Unknown product'    # If assers are disabled bug are caused because this check is not done\n",
    "    store.get_product(prod_id).delete()"
   ]
  },
  {
   "cell_type": "markdown",
   "metadata": {},
   "source": [
    "**Never use assertions to do data valudation**\n",
    "\n",
    "Solution:"
   ]
  },
  {
   "cell_type": "code",
   "execution_count": 6,
   "metadata": {},
   "outputs": [],
   "source": [
    "def delete_product(prod_id, user):\n",
    "    if not user.is_admin():\n",
    "        raise AuthError('Must be admin to delete')\n",
    "    if not store.has_product(produc_id):\n",
    "        raise ValueError('Unknown product id')\n",
    "    store.get_product(product_id).delete()"
   ]
  },
  {
   "cell_type": "markdown",
   "metadata": {},
   "source": [
    "#### 2) Asserts that never fail\n",
    "\n",
    "When you pass a **tuple** as the first argument in an `assert` statement, the assertion always avaluates as true and therefore never fails.\n",
    "\n",
    "For example:"
   ]
  },
  {
   "cell_type": "code",
   "execution_count": 8,
   "metadata": {},
   "outputs": [
    {
     "name": "stderr",
     "output_type": "stream",
     "text": [
      "<>:1: SyntaxWarning: assertion is always true, perhaps remove parentheses?\n",
      "<>:1: SyntaxWarning: assertion is always true, perhaps remove parentheses?\n",
      "<ipython-input-8-aba30ce0aa2e>:1: SyntaxWarning: assertion is always true, perhaps remove parentheses?\n",
      "  assert(1 == 2, 'This should fail')   # This evaluates to true because of the parentheses\n"
     ]
    }
   ],
   "source": [
    "assert(1 == 2, 'This should fail')   # This evaluates to true because of the parentheses"
   ]
  },
  {
   "cell_type": "code",
   "execution_count": 10,
   "metadata": {},
   "outputs": [
    {
     "ename": "AssertionError",
     "evalue": "This should fail",
     "output_type": "error",
     "traceback": [
      "\u001b[1;31m---------------------------------------------------------------------------\u001b[0m",
      "\u001b[1;31mAssertionError\u001b[0m                            Traceback (most recent call last)",
      "\u001b[1;32m<ipython-input-10-deb4b6f95e77>\u001b[0m in \u001b[0;36m<module>\u001b[1;34m\u001b[0m\n\u001b[1;32m----> 1\u001b[1;33m \u001b[1;32massert\u001b[0m \u001b[1;36m1\u001b[0m \u001b[1;33m==\u001b[0m \u001b[1;36m2\u001b[0m\u001b[1;33m,\u001b[0m \u001b[1;34m'This should fail'\u001b[0m  \u001b[1;31m# This is better\u001b[0m\u001b[1;33m\u001b[0m\u001b[1;33m\u001b[0m\u001b[0m\n\u001b[0m",
      "\u001b[1;31mAssertionError\u001b[0m: This should fail"
     ]
    }
   ],
   "source": [
    "assert 1 == 2, 'This should fail'  # This is better"
   ]
  },
  {
   "cell_type": "markdown",
   "metadata": {},
   "source": [
    "## Key Takeaways\n",
    "\n",
    "- Python's assert statement is a debuggin aid that tests a condition as an internal self-check in your program\n",
    "- Asserts should only be used to help developers identify bugs. They are not a mechanism for handling run-time errors.\n",
    "- Asserts can be globally disabled with an interpreter setting."
   ]
  }
 ],
 "metadata": {
  "kernelspec": {
   "display_name": "Python 3",
   "language": "python",
   "name": "python3"
  },
  "language_info": {
   "codemirror_mode": {
    "name": "ipython",
    "version": 3
   },
   "file_extension": ".py",
   "mimetype": "text/x-python",
   "name": "python",
   "nbconvert_exporter": "python",
   "pygments_lexer": "ipython3",
   "version": "3.8.3"
  }
 },
 "nbformat": 4,
 "nbformat_minor": 4
}
